{
  "nbformat": 4,
  "nbformat_minor": 0,
  "metadata": {
    "colab": {
      "provenance": [],
      "authorship_tag": "ABX9TyOpEIzbZeZ0A9HPiXuAUk2b",
      "include_colab_link": true
    },
    "kernelspec": {
      "name": "python3",
      "display_name": "Python 3"
    },
    "language_info": {
      "name": "python"
    }
  },
  "cells": [
    {
      "cell_type": "markdown",
      "metadata": {
        "id": "view-in-github",
        "colab_type": "text"
      },
      "source": [
        "<a href=\"https://colab.research.google.com/github/Irisfantang/test1/blob/main/Python_Data_Types.ipynb\" target=\"_parent\"><img src=\"https://colab.research.google.com/assets/colab-badge.svg\" alt=\"Open In Colab\"/></a>"
      ]
    },
    {
      "cell_type": "markdown",
      "metadata": {
        "id": "kyAU_NUwC06q"
      },
      "source": [
        "## **Strings**"
      ]
    },
    {
      "cell_type": "markdown",
      "metadata": {
        "id": "tSO3OG_WCzKM"
      },
      "source": []
    },
    {
      "cell_type": "code",
      "metadata": {
        "colab": {
          "base_uri": "https://localhost:8080/"
        },
        "id": "nytz6eOmBs-V",
        "outputId": "a389c029-7500-48ed-ede7-f54c64be223a"
      },
      "source": [
        "greeting = 'Hello'\n",
        "name = 'Everyone'\n",
        "message = greeting + ', ' + name + '. Welcome!'\n",
        "print(message)"
      ],
      "execution_count": null,
      "outputs": [
        {
          "output_type": "stream",
          "text": [
            "Hello, Everyone. Welcome!\n"
          ],
          "name": "stdout"
        }
      ]
    },
    {
      "cell_type": "code",
      "metadata": {
        "colab": {
          "base_uri": "https://localhost:8080/"
        },
        "id": "DaAzdWpDCOaj",
        "outputId": "6fd39082-28ae-4d32-c829-2a32fd675d44"
      },
      "source": [
        "greeting = 'Hello'\n",
        "name = 'Everyone'\n",
        "message = '{}, {}. Welcome!'.format(greeting, name)\n",
        "print(message)"
      ],
      "execution_count": null,
      "outputs": [
        {
          "output_type": "stream",
          "text": [
            "Hello, Everyone. Welcome!\n"
          ],
          "name": "stdout"
        }
      ]
    },
    {
      "cell_type": "code",
      "metadata": {
        "colab": {
          "base_uri": "https://localhost:8080/"
        },
        "id": "PoJYQEy6Cfig",
        "outputId": "1d1c0118-7fbb-4259-8928-2beef7755076"
      },
      "source": [
        "greeting = 'Hello'\n",
        "name = 'Everyone'\n",
        "message = f'{greeting}, {name}. Welcome!'\n",
        "print(message)"
      ],
      "execution_count": null,
      "outputs": [
        {
          "output_type": "stream",
          "text": [
            "Hello, Everyone. Welcome!\n"
          ],
          "name": "stdout"
        }
      ]
    },
    {
      "cell_type": "markdown",
      "metadata": {
        "id": "pOJTJk25Df9Z"
      },
      "source": [
        "### String Functions"
      ]
    },
    {
      "cell_type": "code",
      "metadata": {
        "colab": {
          "base_uri": "https://localhost:8080/"
        },
        "id": "ymiMfmiaDjVL",
        "outputId": "5701b5fa-a91f-4e18-9b3e-b5bab001d31c"
      },
      "source": [
        "greeting = 'Hello'\n",
        "name = 'Everyone'\n",
        "message = f'{greeting}, {name.upper()}. Welcome!'\n",
        "print(message)"
      ],
      "execution_count": null,
      "outputs": [
        {
          "output_type": "stream",
          "text": [
            "Hello, EVERYONE. Welcome!\n"
          ],
          "name": "stdout"
        }
      ]
    },
    {
      "cell_type": "code",
      "metadata": {
        "colab": {
          "base_uri": "https://localhost:8080/"
        },
        "id": "oOpi4UDaEjII",
        "outputId": "a1383871-b280-4e57-99f4-43484f244373"
      },
      "source": [
        "message = \"Hello Everyone\"\n",
        "print(message.replace('Everyone', 'World'))"
      ],
      "execution_count": null,
      "outputs": [
        {
          "output_type": "stream",
          "text": [
            "Hello World\n"
          ],
          "name": "stdout"
        }
      ]
    },
    {
      "cell_type": "markdown",
      "metadata": {
        "id": "LiLaLQgDE--Q"
      },
      "source": [
        "## **List, Tuple, Set**\n",
        "\n",
        "**List**: [ ], mutable\\\n",
        "**Tuple**: ( ), not mutable\\\n",
        "**Set**: { }, no duplicates, not care about the order\n",
        "\n",
        "### list functions\n",
        "\n",
        "**lst.pop()**: 删除list中最后一个元素\\\n",
        "**lst.remove()**: 删除list中任意指定的元素\\\n",
        "**lst.append()**: 向list添加新元素，添加在原list最后\\\n",
        "**lst.extend()**: 向list添加多个新元素，添加在原list最后\\\n",
        "**lst.insert()**: 向list添加新元素，根据index可指定添加的位置\\\n",
        "**lst.reverse()**: 将list中的元素顺序倒置\\\n",
        "**lst.sort(reverse = True)**: order alphabetically, numbers in ascending order by default. \"reverse = True\" break the default setting. Similar to \n",
        "\n",
        "### Set functions\n",
        "\n",
        "**set1.union(set2)**: get all elements from 2 sets\\\n",
        "**set1.intersection(set2)**: get the same elements from 2 sets\\\n",
        "**set1.difference(set2)**: get the different elements from 2 sets\n",
        "\n",
        "### Built-in functions\n",
        "\n",
        "**sorted()**: similar to lst.sort() function.\\\n",
        "**min()**\\\n",
        "**max()**\\\n",
        "**sun()**\\\n",
        "**index()**\n",
        "\n",
        "### Other usages\n",
        "\n",
        "**join()**: turn a list to a sting\\\n",
        "**str.split()**: turn a string to a list\\\n",
        "\n",
        "**Create empty list, tuple, set:**\n",
        "empty_list = []\\\n",
        "empty_list = list()\n",
        "\n",
        "empty_tuple = ()\\\n",
        "empty_tuple = tuple()\n",
        "\n",
        "empty_set = {}\n",
        "* this is not correct\n",
        "\n",
        "empty_set = set()\n",
        "\n",
        "\n",
        "\n",
        "\n",
        "\n"
      ]
    },
    {
      "cell_type": "code",
      "metadata": {
        "colab": {
          "base_uri": "https://localhost:8080/"
        },
        "id": "pvf5_TECFCe2",
        "outputId": "98c83d3a-a474-43a1-a14f-c9ed56ef79ed"
      },
      "source": [
        "print(dir(list))"
      ],
      "execution_count": null,
      "outputs": [
        {
          "output_type": "stream",
          "text": [
            "['__add__', '__class__', '__contains__', '__delattr__', '__delitem__', '__dir__', '__doc__', '__eq__', '__format__', '__ge__', '__getattribute__', '__getitem__', '__gt__', '__hash__', '__iadd__', '__imul__', '__init__', '__init_subclass__', '__iter__', '__le__', '__len__', '__lt__', '__mul__', '__ne__', '__new__', '__reduce__', '__reduce_ex__', '__repr__', '__reversed__', '__rmul__', '__setattr__', '__setitem__', '__sizeof__', '__str__', '__subclasshook__', 'append', 'clear', 'copy', 'count', 'extend', 'index', 'insert', 'pop', 'remove', 'reverse', 'sort']\n"
          ],
          "name": "stdout"
        }
      ]
    },
    {
      "cell_type": "code",
      "metadata": {
        "colab": {
          "base_uri": "https://localhost:8080/"
        },
        "id": "Aiuy1CFHIoga",
        "outputId": "6fd1ae97-0ebf-44d4-b5f1-684a447ef837"
      },
      "source": [
        "fruit = ['apple', 'banana', 'orange']\n",
        "print(fruit)"
      ],
      "execution_count": null,
      "outputs": [
        {
          "output_type": "stream",
          "text": [
            "['apple', 'banana', 'orange']\n"
          ],
          "name": "stdout"
        }
      ]
    },
    {
      "cell_type": "code",
      "metadata": {
        "colab": {
          "base_uri": "https://localhost:8080/"
        },
        "id": "F8Wn-wVrI4bY",
        "outputId": "2de9556e-9a93-4524-fc4a-61d5a658f708"
      },
      "source": [
        "fruit = ['apple', 'banana', 'orange']\n",
        "fruit.pop()\n",
        "print(fruit)"
      ],
      "execution_count": null,
      "outputs": [
        {
          "output_type": "stream",
          "text": [
            "['apple', 'banana']\n"
          ],
          "name": "stdout"
        }
      ]
    },
    {
      "cell_type": "code",
      "metadata": {
        "colab": {
          "base_uri": "https://localhost:8080/"
        },
        "id": "Wbiz8Tf6JCuP",
        "outputId": "248f456d-24bd-4954-9d2a-ae681811f2c1"
      },
      "source": [
        "fruit = ['apple', 'banana', 'orange']\n",
        "fruit.remove('apple')\n",
        "print(fruit)"
      ],
      "execution_count": null,
      "outputs": [
        {
          "output_type": "stream",
          "text": [
            "['banana', 'orange']\n"
          ],
          "name": "stdout"
        }
      ]
    },
    {
      "cell_type": "code",
      "metadata": {
        "colab": {
          "base_uri": "https://localhost:8080/"
        },
        "id": "Jvmtq-dSKDdg",
        "outputId": "db703fb5-ae7c-4228-c7d5-df7b13020e97"
      },
      "source": [
        "fruit = ['apple', 'banana', 'orange']\n",
        "fruit.append(\"pear\")\n",
        "print(fruit)"
      ],
      "execution_count": null,
      "outputs": [
        {
          "output_type": "stream",
          "text": [
            "['apple', 'banana', 'orange', 'pear']\n"
          ],
          "name": "stdout"
        }
      ]
    },
    {
      "cell_type": "code",
      "metadata": {
        "colab": {
          "base_uri": "https://localhost:8080/"
        },
        "id": "SqnmHtOwLTh_",
        "outputId": "5f43c284-ebad-4a6f-d490-8f25bb14c546"
      },
      "source": [
        "fruit = ['apple', 'banana', 'orange']\n",
        "fruit_2 = ['pear', 'mango']\n",
        "fruit.append(fruit_2)\n",
        "print(fruit)"
      ],
      "execution_count": null,
      "outputs": [
        {
          "output_type": "stream",
          "text": [
            "['apple', 'banana', 'orange', ['pear', 'mango']]\n"
          ],
          "name": "stdout"
        }
      ]
    },
    {
      "cell_type": "code",
      "metadata": {
        "colab": {
          "base_uri": "https://localhost:8080/"
        },
        "id": "Qt9iDt7cKRk2",
        "outputId": "247fd3eb-28a7-4e23-acca-14ce182a598b"
      },
      "source": [
        "fruit = ['apple', 'banana', 'orange']\n",
        "fruit.insert(0, \"pear\")\n",
        "print(fruit)"
      ],
      "execution_count": null,
      "outputs": [
        {
          "output_type": "stream",
          "text": [
            "['pear', 'apple', 'banana', 'orange']\n"
          ],
          "name": "stdout"
        }
      ]
    },
    {
      "cell_type": "code",
      "metadata": {
        "colab": {
          "base_uri": "https://localhost:8080/"
        },
        "id": "Ct3y2n8ZKtGO",
        "outputId": "5b96b71e-9269-4380-dd3d-cf8a9d721580"
      },
      "source": [
        "fruit = ['apple', 'banana', 'orange']\n",
        "fruit_2 = ['pear', 'mango']\n",
        "fruit.insert(0, fruit_2)\n",
        "print(fruit)"
      ],
      "execution_count": null,
      "outputs": [
        {
          "output_type": "stream",
          "text": [
            "[['pear', 'mango'], 'apple', 'banana', 'orange']\n"
          ],
          "name": "stdout"
        }
      ]
    },
    {
      "cell_type": "code",
      "metadata": {
        "colab": {
          "base_uri": "https://localhost:8080/"
        },
        "id": "UpbtAYpjKXmA",
        "outputId": "5ea9bbbd-596c-493f-ce3c-81937b1b3f26"
      },
      "source": [
        "fruit = ['apple', 'banana', 'orange']\n",
        "fruit_2 = ['pear', 'mango']\n",
        "fruit.extend(fruit_2)\n",
        "print(fruit)"
      ],
      "execution_count": null,
      "outputs": [
        {
          "output_type": "stream",
          "text": [
            "['apple', 'banana', 'orange', 'pear', 'mango']\n"
          ],
          "name": "stdout"
        }
      ]
    },
    {
      "cell_type": "code",
      "metadata": {
        "colab": {
          "base_uri": "https://localhost:8080/"
        },
        "id": "_ViOybt0Kmiq",
        "outputId": "6b95cda9-6527-4bdb-af74-1ca1aa8f2294"
      },
      "source": [
        "fruit = ['apple', 'banana', 'orange']\n",
        "fruit.reverse()\n",
        "print(fruit)"
      ],
      "execution_count": null,
      "outputs": [
        {
          "output_type": "stream",
          "text": [
            "['orange', 'banana', 'apple']\n"
          ],
          "name": "stdout"
        }
      ]
    },
    {
      "cell_type": "code",
      "metadata": {
        "colab": {
          "base_uri": "https://localhost:8080/"
        },
        "id": "Mo8HF481fRHK",
        "outputId": "f7e0c0d9-a9ad-46ee-d806-69f41d75f5f7"
      },
      "source": [
        "num = [2, 10, 1, 5, 9]\n",
        "num.sort()\n",
        "print(num)"
      ],
      "execution_count": null,
      "outputs": [
        {
          "output_type": "stream",
          "text": [
            "[1, 2, 5, 9, 10]\n"
          ],
          "name": "stdout"
        }
      ]
    },
    {
      "cell_type": "code",
      "metadata": {
        "colab": {
          "base_uri": "https://localhost:8080/"
        },
        "id": "gyeSBWoDfbsM",
        "outputId": "2bff7d34-de14-4550-9c69-2fa08a3962e1"
      },
      "source": [
        "num = [2, 10, 1, 5, 9]\n",
        "num.sort(reverse = True)\n",
        "print(num)"
      ],
      "execution_count": null,
      "outputs": [
        {
          "output_type": "stream",
          "text": [
            "[10, 9, 5, 2, 1]\n"
          ],
          "name": "stdout"
        }
      ]
    },
    {
      "cell_type": "code",
      "metadata": {
        "colab": {
          "base_uri": "https://localhost:8080/"
        },
        "id": "h_DMIMo3gB7p",
        "outputId": "fdd9fef2-c73c-4b69-eedd-a02bd2587822"
      },
      "source": [
        "fruit_new = ['apple', 'banana', 'orange', 'pear', 'mango']\n",
        "print(sorted(fruit_new))\n",
        "print(fruit_new.index('orange'))"
      ],
      "execution_count": null,
      "outputs": [
        {
          "output_type": "stream",
          "text": [
            "['apple', 'banana', 'mango', 'orange', 'pear']\n",
            "2\n"
          ],
          "name": "stdout"
        }
      ]
    },
    {
      "cell_type": "code",
      "metadata": {
        "colab": {
          "base_uri": "https://localhost:8080/"
        },
        "id": "ooniHQImhB4J",
        "outputId": "97039428-1fec-4d77-9a0e-6ce51c1d3b89"
      },
      "source": [
        "fruit_new = ['apple', 'banana', 'orange', 'pear', 'mango']\n",
        "\n",
        "for index, fruit in enumerate(fruit_new):\n",
        "  print(index, fruit)"
      ],
      "execution_count": null,
      "outputs": [
        {
          "output_type": "stream",
          "text": [
            "0 apple\n",
            "1 banana\n",
            "2 orange\n",
            "3 pear\n",
            "4 mango\n"
          ],
          "name": "stdout"
        }
      ]
    },
    {
      "cell_type": "code",
      "metadata": {
        "colab": {
          "base_uri": "https://localhost:8080/"
        },
        "id": "DTOXQlVJhTQv",
        "outputId": "bd74f132-cc5d-4b8e-9f2a-7b864ad5db54"
      },
      "source": [
        "fruit_new = ['apple', 'banana', 'orange', 'pear', 'mango']\n",
        "\n",
        "for index, fruit in enumerate(fruit_new, start=1):\n",
        "  print(index, fruit)"
      ],
      "execution_count": null,
      "outputs": [
        {
          "output_type": "stream",
          "text": [
            "1 apple\n",
            "2 banana\n",
            "3 orange\n",
            "4 pear\n",
            "5 mango\n"
          ],
          "name": "stdout"
        }
      ]
    },
    {
      "cell_type": "code",
      "metadata": {
        "colab": {
          "base_uri": "https://localhost:8080/"
        },
        "id": "y_JtzkyDhhLx",
        "outputId": "c3c729e0-c2ae-4a57-eb3e-4f2a9ca58d39"
      },
      "source": [
        "fruit_new = ['apple', 'banana', 'orange', 'pear', 'mango']\n",
        "fruit_str1 = ', '.join(fruit_new)\n",
        "fruit_str2 = '-'.join(fruit_new)\n",
        "fruit_lst = fruit_str2.split('-')\n",
        "print(fruit_str1)\n",
        "print(fruit_str2)\n",
        "print(fruit_lst)"
      ],
      "execution_count": null,
      "outputs": [
        {
          "output_type": "stream",
          "text": [
            "apple, banana, orange, pear, mango\n",
            "apple-banana-orange-pear-mango\n",
            "['apple', 'banana', 'orange', 'pear', 'mango']\n"
          ],
          "name": "stdout"
        }
      ]
    },
    {
      "cell_type": "code",
      "metadata": {
        "colab": {
          "base_uri": "https://localhost:8080/"
        },
        "id": "Itd7gPV0jVYO",
        "outputId": "5b078b39-b783-475a-9e29-15d513bab506"
      },
      "source": [
        "fruit_set = {'apple', 'banana', 'orange', 'pear', 'mango', 'apple'}\n",
        "print(fruit_set)\n",
        "print(dir(set))"
      ],
      "execution_count": null,
      "outputs": [
        {
          "output_type": "stream",
          "text": [
            "{'mango', 'orange', 'apple', 'pear', 'banana'}\n",
            "['__and__', '__class__', '__contains__', '__delattr__', '__dir__', '__doc__', '__eq__', '__format__', '__ge__', '__getattribute__', '__gt__', '__hash__', '__iand__', '__init__', '__init_subclass__', '__ior__', '__isub__', '__iter__', '__ixor__', '__le__', '__len__', '__lt__', '__ne__', '__new__', '__or__', '__rand__', '__reduce__', '__reduce_ex__', '__repr__', '__ror__', '__rsub__', '__rxor__', '__setattr__', '__sizeof__', '__str__', '__sub__', '__subclasshook__', '__xor__', 'add', 'clear', 'copy', 'difference', 'difference_update', 'discard', 'intersection', 'intersection_update', 'isdisjoint', 'issubset', 'issuperset', 'pop', 'remove', 'symmetric_difference', 'symmetric_difference_update', 'union', 'update']\n"
          ],
          "name": "stdout"
        }
      ]
    },
    {
      "cell_type": "code",
      "metadata": {
        "colab": {
          "base_uri": "https://localhost:8080/"
        },
        "id": "HOrLJCd2kcnk",
        "outputId": "1d103acb-ad8e-4a7b-ecd0-a1e2f18c7d83"
      },
      "source": [
        "fruit_set1 = {'apple', 'banana', 'orange', 'pear', 'mango'}\n",
        "fruit_set2 = {'apple', 'banana', 'grape', 'peach', 'mango'}\n",
        "print(fruit_set1.intersection(fruit_set2))\n",
        "print(fruit_set1.difference(fruit_set2))\n",
        "print(fruit_set1.union(fruit_set2))"
      ],
      "execution_count": null,
      "outputs": [
        {
          "output_type": "stream",
          "text": [
            "{'mango', 'apple', 'banana'}\n",
            "{'pear', 'orange'}\n",
            "{'mango', 'orange', 'grape', 'peach', 'apple', 'pear', 'banana'}\n"
          ],
          "name": "stdout"
        }
      ]
    },
    {
      "cell_type": "code",
      "metadata": {
        "colab": {
          "base_uri": "https://localhost:8080/"
        },
        "id": "t6rOnpigmStV",
        "outputId": "c0ddec55-ca3a-4c61-9da6-67af3b669b82"
      },
      "source": [
        "print(dir(tuple))"
      ],
      "execution_count": null,
      "outputs": [
        {
          "output_type": "stream",
          "text": [
            "['__add__', '__class__', '__contains__', '__delattr__', '__dir__', '__doc__', '__eq__', '__format__', '__ge__', '__getattribute__', '__getitem__', '__getnewargs__', '__gt__', '__hash__', '__init__', '__init_subclass__', '__iter__', '__le__', '__len__', '__lt__', '__mul__', '__ne__', '__new__', '__reduce__', '__reduce_ex__', '__repr__', '__rmul__', '__setattr__', '__sizeof__', '__str__', '__subclasshook__', 'count', 'index']\n"
          ],
          "name": "stdout"
        }
      ]
    },
    {
      "cell_type": "markdown",
      "metadata": {
        "id": "yGlO7fgdnXbx"
      },
      "source": [
        "## **Dictionary**\n",
        "\n",
        "Key-Value pair\\\n",
        "{ }, Mutable, can be anything inside a dictionary.\n",
        "\n",
        "### Dictionary functions\n",
        "\n",
        "**dict.get()**: to find a key\\\n",
        "**dict.update()**: update mutiple argument inside a dictionary\\\n",
        "**dict.pop()**: delete a Key-Value pair inside a dictionary; can also use **del** to do the same thing.\\\n",
        "**dict.values()**\\\n",
        "**dict.keys()**\\\n",
        "**dict.items()**: Key-Value pairs\n",
        "\n",
        "\n"
      ]
    },
    {
      "cell_type": "code",
      "metadata": {
        "colab": {
          "base_uri": "https://localhost:8080/"
        },
        "id": "3b1NAPvyojME",
        "outputId": "971af521-dae0-4b21-f79c-7baa884ec7f9"
      },
      "source": [
        "print(dir(dict))"
      ],
      "execution_count": null,
      "outputs": [
        {
          "output_type": "stream",
          "text": [
            "['__class__', '__contains__', '__delattr__', '__delitem__', '__dir__', '__doc__', '__eq__', '__format__', '__ge__', '__getattribute__', '__getitem__', '__gt__', '__hash__', '__init__', '__init_subclass__', '__iter__', '__le__', '__len__', '__lt__', '__ne__', '__new__', '__reduce__', '__reduce_ex__', '__repr__', '__setattr__', '__setitem__', '__sizeof__', '__str__', '__subclasshook__', 'clear', 'copy', 'fromkeys', 'get', 'items', 'keys', 'pop', 'popitem', 'setdefault', 'update', 'values']\n"
          ],
          "name": "stdout"
        }
      ]
    },
    {
      "cell_type": "code",
      "metadata": {
        "colab": {
          "base_uri": "https://localhost:8080/"
        },
        "id": "9E4WRxE4ne7S",
        "outputId": "bda096c6-ee0c-4093-c5ed-f7685f97b44d"
      },
      "source": [
        "student_dict = {'name': 'John', 'age': 25, 'course': ['Math', 'ComSci']}\n",
        "print(student_dict['course'])\n",
        "print(student_dict.get('phone', 'Not Found'))\n",
        "print(len(student_dict))\n",
        "print(student_dict.keys())\n",
        "print(student_dict.values())\n",
        "print(student_dict.items())"
      ],
      "execution_count": null,
      "outputs": [
        {
          "output_type": "stream",
          "text": [
            "['Math', 'ComSci']\n",
            "Not Found\n",
            "3\n",
            "dict_keys(['name', 'age', 'course'])\n",
            "dict_values(['John', 25, ['Math', 'ComSci']])\n",
            "dict_items([('name', 'John'), ('age', 25), ('course', ['Math', 'ComSci'])])\n"
          ],
          "name": "stdout"
        }
      ]
    },
    {
      "cell_type": "code",
      "metadata": {
        "colab": {
          "base_uri": "https://localhost:8080/"
        },
        "id": "LtTmAhLxpFdD",
        "outputId": "a27ff08e-9433-49a9-91b6-7dce372efdca"
      },
      "source": [
        "student_dict = {'name': 'John', 'age': 25, 'course': ['Math', 'ComSci']}\n",
        "student_dict['phone'] = '123-12345'\n",
        "student_dict['name'] = 'Jane'\n",
        "print(student_dict)"
      ],
      "execution_count": null,
      "outputs": [
        {
          "output_type": "stream",
          "text": [
            "{'name': 'Jane', 'age': 25, 'course': ['Math', 'ComSci'], 'phone': '123-12345'}\n"
          ],
          "name": "stdout"
        }
      ]
    },
    {
      "cell_type": "code",
      "metadata": {
        "colab": {
          "base_uri": "https://localhost:8080/"
        },
        "id": "Psf-8Lu7pfyD",
        "outputId": "28f6c411-5ca3-4ca7-fa91-8118ccbc7da3"
      },
      "source": [
        "student_dict = {'name': 'John', 'age': 25, 'course': ['Math', 'ComSci']}\n",
        "student_dict.update({'name':'Jane', 'age':26, 'phone':'123-12345'})\n",
        "print(student_dict)"
      ],
      "execution_count": null,
      "outputs": [
        {
          "output_type": "stream",
          "text": [
            "{'name': 'Jane', 'age': 26, 'course': ['Math', 'ComSci'], 'phone': '123-12345'}\n"
          ],
          "name": "stdout"
        }
      ]
    },
    {
      "cell_type": "code",
      "metadata": {
        "colab": {
          "base_uri": "https://localhost:8080/"
        },
        "id": "COoMAMh4p6Ct",
        "outputId": "1ce29311-23da-4709-de98-602b1e49f9a2"
      },
      "source": [
        "student_dict = {'name': 'John', 'age': 25, 'course': ['Math', 'ComSci']}\n",
        "del student_dict['age']\n",
        "print(student_dict)"
      ],
      "execution_count": null,
      "outputs": [
        {
          "output_type": "stream",
          "text": [
            "{'name': 'John', 'course': ['Math', 'ComSci']}\n"
          ],
          "name": "stdout"
        }
      ]
    },
    {
      "cell_type": "code",
      "metadata": {
        "colab": {
          "base_uri": "https://localhost:8080/"
        },
        "id": "60gbyycVqfGu",
        "outputId": "579bcb56-ff68-494b-c15e-701abb5ecdfd"
      },
      "source": [
        "student_dict = {'name': 'John', 'age': 25, 'course': ['Math', 'ComSci']}\n",
        "age = student_dict.pop('age')\n",
        "print(student_dict)\n",
        "print(age)\n"
      ],
      "execution_count": null,
      "outputs": [
        {
          "output_type": "stream",
          "text": [
            "{'name': 'John', 'course': ['Math', 'ComSci']}\n",
            "25\n"
          ],
          "name": "stdout"
        }
      ]
    },
    {
      "cell_type": "code",
      "metadata": {
        "colab": {
          "base_uri": "https://localhost:8080/"
        },
        "id": "kvcPx4IgrdnP",
        "outputId": "42a4e9bb-fe15-448b-ad28-60d84c11747b"
      },
      "source": [
        "student_dict = {'name': 'John', 'age': 25, 'course': ['Math', 'ComSci']}\n",
        "\n",
        "for key, value in student_dict.items():\n",
        "  print(key, value)"
      ],
      "execution_count": null,
      "outputs": [
        {
          "output_type": "stream",
          "text": [
            "name John\n",
            "age 25\n",
            "course ['Math', 'ComSci']\n"
          ],
          "name": "stdout"
        }
      ]
    }
  ]
}